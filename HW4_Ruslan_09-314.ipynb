{
  "nbformat": 4,
  "nbformat_minor": 0,
  "metadata": {
    "colab": {
      "provenance": [],
      "authorship_tag": "ABX9TyM3FSY+kT1YdGmNSI/6DcY5",
      "include_colab_link": true
    },
    "kernelspec": {
      "name": "python3",
      "display_name": "Python 3"
    },
    "language_info": {
      "name": "python"
    }
  },
  "cells": [
    {
      "cell_type": "markdown",
      "metadata": {
        "id": "view-in-github",
        "colab_type": "text"
      },
      "source": [
        "<a href=\"https://colab.research.google.com/github/Fairim/University/blob/main/HW4_Ruslan_09-314.ipynb\" target=\"_parent\"><img src=\"https://colab.research.google.com/assets/colab-badge.svg\" alt=\"Open In Colab\"/></a>"
      ]
    },
    {
      "cell_type": "markdown",
      "source": [
        "##**Работа с строками**"
      ],
      "metadata": {
        "id": "HUduzWTqiThQ"
      }
    },
    {
      "cell_type": "markdown",
      "source": [
        "\n",
        "Вариант 11\n",
        "1.\tДана последовательность слов. Напечатать все слова последовательности, которые встречаются в ней по одному разу."
      ],
      "metadata": {
        "id": "8whpEXeaaC3x"
      }
    },
    {
      "cell_type": "code",
      "source": [
        "mas_main = ['wdawda', 'wdawda', 'wadscdd', 'wdawda', 'Vadim', 'Vadim', 'Valik']\n",
        "mas_printed = []\n",
        "for i in mas_main:\n",
        "  if i not in mas_printed:\n",
        "    print(i)\n",
        "    mas_printed.append(i)"
      ],
      "metadata": {
        "colab": {
          "base_uri": "https://localhost:8080/"
        },
        "id": "pZh_LUKnaeCT",
        "outputId": "5b906507-7b8d-4221-f287-a0de2d146cc9"
      },
      "execution_count": 2,
      "outputs": [
        {
          "output_type": "stream",
          "name": "stdout",
          "text": [
            "wdawda\n",
            "wadscdd\n",
            "Vadim\n",
            "Valik\n"
          ]
        }
      ]
    },
    {
      "cell_type": "markdown",
      "source": [
        "2.\tДана символьная строка. Подсчитать, сколько различных символов встречаются в ней. Вывести их на экран."
      ],
      "metadata": {
        "id": "2WA_19xiaBHF"
      }
    },
    {
      "cell_type": "code",
      "source": [
        "stroka = 'wioabfiucelkfosenofinseibfoesofborniofrodvoiwesocweoinfo'\n",
        "stroka_unique = set(stroka)\n",
        "print(len(stroka_unique))"
      ],
      "metadata": {
        "colab": {
          "base_uri": "https://localhost:8080/"
        },
        "id": "QztuhtIZbGn9",
        "outputId": "8930b93d-0c72-4fa2-8557-72fb9b58e23b"
      },
      "execution_count": 4,
      "outputs": [
        {
          "output_type": "stream",
          "name": "stdout",
          "text": [
            "16\n"
          ]
        }
      ]
    },
    {
      "cell_type": "markdown",
      "source": [
        "3.\tСоставить программу преобразования натуральных чисел, записанных в римской нумерации, в десятичную систему счисления."
      ],
      "metadata": {
        "id": "Ma0FUieXaHf5"
      }
    },
    {
      "cell_type": "code",
      "execution_count": 13,
      "metadata": {
        "colab": {
          "base_uri": "https://localhost:8080/"
        },
        "id": "aqrjfG1uZnuh",
        "outputId": "1b3868d6-de9a-453a-e37d-c4ab404677e4"
      },
      "outputs": [
        {
          "output_type": "stream",
          "name": "stdout",
          "text": [
            "xii\n",
            "12\n"
          ]
        }
      ],
      "source": [
        "roman = {\n",
        "  'I':1,\n",
        "  'V':5,\n",
        "  'X':10,\n",
        "  'L':50,\n",
        "  'C':100,\n",
        "  'M':1000\n",
        "}\n",
        "\n",
        "def calc_roman(strng: str) -> int:\n",
        "  res = 0\n",
        "  pred = ''\n",
        "  for i in strng:\n",
        "    res += roman[i]\n",
        "    if (pred == 'I') & ('I' != i):\n",
        "      res -= 2\n",
        "    pred = i\n",
        "  return res\n",
        "\n",
        "roman_str = str(input()).upper()\n",
        "print(calc_roman(roman_str))"
      ]
    },
    {
      "cell_type": "markdown",
      "source": [
        "##**Работа с файлами**"
      ],
      "metadata": {
        "id": "dhPYxcKiiLfu"
      }
    },
    {
      "cell_type": "markdown",
      "source": [
        "Вариант 11"
      ],
      "metadata": {
        "id": "mZn97xdiiiwB"
      }
    },
    {
      "cell_type": "markdown",
      "source": [
        "1.\tЗаполнить файл f натуральными числами, полученными с помощью генератора случайных чисел. Найти количество квадратов нечетных чисел среди компонент."
      ],
      "metadata": {
        "id": "EkyorKrAiKoQ"
      }
    },
    {
      "cell_type": "code",
      "source": [
        "from random import randint\n",
        "from math import sqrt\n",
        "\n",
        "def fill_file(path):\n",
        "  with open(path, 'w') as f:\n",
        "    for i in range(1000):\n",
        "      num = randint(1, 1000)\n",
        "      f.write(f'{num}\\n')\n",
        "\n",
        "def check_nums(path):\n",
        "  with open(path, 'r') as f:\n",
        "    full_file = f.readlines()\n",
        "  mas_nums = [int(i[:-1]) for i in full_file]\n",
        "  count = 0\n",
        "  for i in mas_nums:\n",
        "    if (sqrt(i) % 1 == 0) & (i % 2 != 0):\n",
        "      count+=1\n",
        "  print(count)\n",
        "\n",
        "\n",
        "fill_file('file1.txt')\n",
        "check_nums('file1.txt')"
      ],
      "metadata": {
        "colab": {
          "base_uri": "https://localhost:8080/"
        },
        "id": "AUsipmvJifEA",
        "outputId": "66bc21c6-6284-4333-8963-4ec041549eaa"
      },
      "execution_count": 15,
      "outputs": [
        {
          "output_type": "stream",
          "name": "stdout",
          "text": [
            "13\n"
          ]
        }
      ]
    },
    {
      "cell_type": "markdown",
      "source": [
        "2.\tДан файл Assort, содержащий сведения об игрушках: указывается название игрушки, ее стоимость в рублях и возрастные границы (например, игрушка может предназначаться для детей от двух до пяти лет). Получить название игрушек, цена которых не превышает 14 тыс. р. и которые подходят детям 5 лет."
      ],
      "metadata": {
        "id": "BGHznKlL0G63"
      }
    },
    {
      "cell_type": "code",
      "source": [
        "import pandas as pd\n",
        "import random\n",
        "\n",
        "def gen_file():\n",
        "  toy_names = [\n",
        "      \"Мяч футбольный\", \"Кукла Барби\", \"Конструктор LEGO\",\n",
        "      \"Машинка Hot Wheels\", \"Плюшевый мишка\", \"Набор доктора\",\n",
        "      \"Железная дорога\", \"Пазл 100 деталей\", \"Робот-трансформер\",\n",
        "      \"Настольная игра\", \"Воздушный змей\", \"Скакалка\",\n",
        "      \"Набор для рисования\", \"Кубик Рубика\", \"Детский планшет\",\n",
        "      \"Музыкальный инструмент\", \"Набор солдатиков\", \"Игрушечная кухня\",\n",
        "      \"Самокат\", \"Набор для опытов\"\n",
        "  ]\n",
        "\n",
        "  data = []\n",
        "  for i in range(20):\n",
        "      toy = random.choice(toy_names)\n",
        "      price = random.randint(10000, 20000)\n",
        "      age = random.choice([\"0-2\", \"3-5\", \"6-11\", \"12-15\", \"16-20\"])\n",
        "      data.append([toy, price, age])\n",
        "\n",
        "  df = pd.DataFrame(data, columns=[\"Название игрушки\", \"Цена (руб)\", \"Возрастные ограничения\"])\n",
        "  df.to_csv('Assort')\n",
        "\n",
        "def return_toys(path):\n",
        "  with open(path) as f:\n",
        "    f.readline()\n",
        "    full_file = f.readlines()\n",
        "  for stroka in full_file:\n",
        "    mas = stroka[:-1].split(',')\n",
        "    age_tunple = mas[3].split('-')\n",
        "    if (int(mas[2]) <= 14000) & (int(age_tunple[0]) <= 5):\n",
        "      print(mas[1])\n",
        "\n",
        "gen_file()\n",
        "return_toys('Assort')\n"
      ],
      "metadata": {
        "colab": {
          "base_uri": "https://localhost:8080/"
        },
        "id": "Dj-Gthpo0Lzn",
        "outputId": "a5245638-cfd5-4c38-9e21-58b85c87e369"
      },
      "execution_count": 29,
      "outputs": [
        {
          "output_type": "stream",
          "name": "stdout",
          "text": [
            "Кукла Барби\n",
            "Машинка Hot Wheels\n"
          ]
        }
      ]
    },
    {
      "cell_type": "markdown",
      "source": [
        "3.\tДан файл, содержащий текст на русском языке. Выбрать из него только те символы, которые встречаются в нем только один раз, в том порядке, в котором они встречаются в тексте."
      ],
      "metadata": {
        "id": "xP0k3SUT140G"
      }
    },
    {
      "cell_type": "code",
      "source": [
        "def gen_file():\n",
        "  with open('file2.txt', 'w') as f:\n",
        "    f.write('mpdwaobuiafnurbvvnmsecvnmeyufqwvmaslq')\n",
        "\n",
        "def check_letters(path):\n",
        "  letters_dict = {}\n",
        "  with open(path) as f:\n",
        "    full_file = f.readlines()\n",
        "  for stroka in full_file:\n",
        "    for i in stroka:\n",
        "      if i in letters_dict:\n",
        "        letters_dict[i] += 1\n",
        "      else:\n",
        "        letters_dict[i] = 1\n",
        "  for key, value in letters_dict.items():\n",
        "    if value == 1:\n",
        "      print(key)\n",
        "\n",
        "gen_file()\n",
        "check_letters('file2.txt')"
      ],
      "metadata": {
        "colab": {
          "base_uri": "https://localhost:8080/"
        },
        "id": "TPWeOFP116CE",
        "outputId": "0627c4f9-b088-41a1-a6a5-0aa48207630c"
      },
      "execution_count": 34,
      "outputs": [
        {
          "output_type": "stream",
          "name": "stdout",
          "text": [
            "p\n",
            "d\n",
            "o\n",
            "i\n",
            "r\n",
            "c\n",
            "y\n",
            "l\n"
          ]
        }
      ]
    },
    {
      "cell_type": "markdown",
      "source": [
        "#**Создание теста:**"
      ],
      "metadata": {
        "id": "KTz9UUFONGUx"
      }
    },
    {
      "cell_type": "code",
      "source": [
        "import re\n",
        "import random\n",
        "import datetime\n",
        "class Question:\n",
        "    def __init__(self, info, *q, ans=[], note = None):\n",
        "        self.info = info\n",
        "        self.variants = list(q[:])\n",
        "        self.ans = ans[:]\n",
        "        self.note = note\n",
        "    def check(self, k):\n",
        "        return self.variants[k] in self.ans\n",
        "\n",
        "    def shuffle(self):\n",
        "        random.shuffle(self.variants)\n",
        "\n",
        "    def __str__(self):\n",
        "        return f\"{self.info}\\n{self.variants}\\n{self.ans}\\n\" + (f\"{self.note}\\n\" if self.note is not None else '')\n",
        "\n",
        "\n",
        "\n",
        "\n",
        "def main():\n",
        "    file = 'test.txt'\n",
        "    with open(file) as f:\n",
        "        lines = f.readlines()\n",
        "    qs = parse(lines)\n",
        "    total = len(qs)\n",
        "    good = 0\n",
        "    st1=datetime.datetime.now()\n",
        "    for i in qs:\n",
        "        i.shuffle()\n",
        "    random.shuffle(qs)\n",
        "    print(\"Начинаю тестирование\")\n",
        "    for i,q in enumerate(qs):\n",
        "        print(f\"Вопрос {i + 1}/{total}: {q.info}\\n\")\n",
        "        for j, ask in enumerate(q.variants):\n",
        "            print(f\"{j+1}. {ask}\")\n",
        "        correct = False\n",
        "        while not correct:\n",
        "            user = input()\n",
        "            try:\n",
        "                user = int(user)\n",
        "            except:\n",
        "                print(\"Неправильнные данные\")\n",
        "                continue\n",
        "            if 1<=user<=len(q.variants):\n",
        "                correct = True\n",
        "            else:\n",
        "                print(\"Нет такого ответа\")\n",
        "        if (q.check(user - 1)):\n",
        "            print(\"Правильно\")\n",
        "            good+=1\n",
        "        else:\n",
        "            print(\"Неправильно\\nОтветы:\")\n",
        "            print(*q.ans)\n",
        "            if q.note is not None:\n",
        "                print(q.note)\n",
        "\n",
        "        if i < len(qs) -1:\n",
        "            print(\"Переходим к следующему вопросу...\")\n",
        "    end1=datetime.datetime.now()\n",
        "    print(\"Тестирование завершенно\")\n",
        "    print(f\"Общее количество вопросов: {total}\\nКоличество правильных ответов: {good}\\nПроцент правильных ответов: {good / total *100}%\\n\")\n",
        "\n",
        "    with open(\"result.txt\", 'a') as f:\n",
        "        f.write(f\"Время начала теста: {st1}\\n\")\n",
        "        f.write(f\"Время окончания теста: {end1}\\n\")\n",
        "        f.write(f\"Общее количество вопросов: {total}\\nКоличество правильных ответов: {good}\\nПроцент правильных ответов: {good / total *100}%\\n\\n\")\n",
        "\n",
        "def parse(mas):\n",
        "    for i in range(len(mas)):\n",
        "        mas[i] = mas[i].strip()\n",
        "    mas = [i for i in mas if len(i) > 0]\n",
        "    mas = [i[3:] if i[:7] != \"Ответ: \" else i for i in mas ]\n",
        "    qq = []\n",
        "    i = 0\n",
        "    while i < len(mas):\n",
        "        nt = None\n",
        "        q = mas[i]\n",
        "        i+=1\n",
        "        lst = []\n",
        "        while (i < len(mas) and 'Ответ: ' not in mas[i]):\n",
        "            lst.append(mas[i])\n",
        "            i+=1\n",
        "        if i < len(mas):\n",
        "            a = re.findall(r'\\d+|\\D+', mas[i][7:])\n",
        "            otvets = []\n",
        "            for k,j in enumerate(a):\n",
        "                if j in '1234567890':\n",
        "                    a[k] = lst[int(j) - 1]\n",
        "                    otvets.append(a[k])\n",
        "            i+=1\n",
        "            if len(a)>1:\n",
        "                nt = ' '.join(a)\n",
        "        qq.append(Question(q, *lst, ans=otvets, note=nt))\n",
        "    return qq\n",
        "\n",
        "if __name__ == \"__main__\":\n",
        "    main()\n"
      ],
      "metadata": {
        "colab": {
          "base_uri": "https://localhost:8080/"
        },
        "id": "OQBPMpOdNP6_",
        "outputId": "48078835-f288-420b-c077-ff0842ab070e"
      },
      "execution_count": 4,
      "outputs": [
        {
          "output_type": "stream",
          "name": "stdout",
          "text": [
            "Начинаю тестирование\n",
            "Вопрос 1/20:  Какой инструмент используется для контейнеризации приложений?\n",
            "\n",
            "1. Nginx\n",
            "2. Kubernetes\n",
            "3. Apache\n",
            "4. Jenkins\n",
            "5. Docker\n",
            "5\n",
            "Правильно\n",
            "Переходим к следующему вопросу...\n",
            "Вопрос 2/20: Какой протокол отвечает за безопасную передачу данных между браузером и сервером?\n",
            "\n",
            "1. HTTPS\n",
            "2. HTTP\n",
            "3. FTP\n",
            "4. TCP\n",
            "5. SMTP\n",
            "1\n",
            "Правильно\n",
            "Переходим к следующему вопросу...\n",
            "Вопрос 3/20: Какая из перечисленных технологий используется для стилизации веб-страниц?\n",
            "\n",
            "1. SQL\n",
            "2. TypeScript\n",
            "3. HTML\n",
            "4. CSS\n",
            "5. Python\n",
            "4\n",
            "Правильно\n",
            "Переходим к следующему вопросу...\n",
            "Вопрос 4/20:  Какая из перечисленных технологий является языком разметки?\n",
            "\n",
            "1. PHP\n",
            "2. Python\n",
            "3. HTML\n",
            "4. CSS\n",
            "5. JavaScript\n",
            "1\n",
            "Неправильно\n",
            "Ответы:\n",
            "HTML\n",
            "Переходим к следующему вопросу...\n",
            "Вопрос 5/20:  Какой язык программирования является основным для разработки приложений под Android?\n",
            "\n",
            "1. C#\n",
            "2. Kotlin\n",
            "3. Ruby\n",
            "4. Python\n",
            "5. Swift\n",
            "2\n",
            "Правильно\n",
            "Переходим к следующему вопросу...\n",
            "Вопрос 6/20: Какой инструмент используется для управления версиями кода?\n",
            "\n",
            "1. Apache\n",
            "2. Jenkins\n",
            "3. Docker\n",
            "4. Git\n",
            "5. Nginx\n",
            "1\n",
            "Неправильно\n",
            "Ответы:\n",
            "Git\n",
            "Переходим к следующему вопросу...\n",
            "Вопрос 7/20:  Какой метод HTTP-запроса используется для обновления данных на сервере?\n",
            "\n",
            "1. PATCH\n",
            "2. POST\n",
            "3. DELETE\n",
            "4. PUT\n",
            "5. GET\n",
            "2\n",
            "Неправильно\n",
            "Ответы:\n",
            "PUT\n",
            "Переходим к следующему вопросу...\n",
            "Вопрос 8/20:  Какая команда в Git используется для клонирования удаленного репозитория?\n",
            "\n",
            "1. git commit\n",
            "2. git init\n",
            "3. git pull\n",
            "4. git clone\n",
            "5. git push\n",
            "4\n",
            "Правильно\n",
            "Переходим к следующему вопросу...\n",
            "Вопрос 9/20:  Какой язык программирования чаще всего используется для анализа данных и машинного обучения?\n",
            "\n",
            "1. C++\n",
            "2. Ruby\n",
            "3. JavaScript\n",
            "4. PHP\n",
            "5. Python\n",
            "1\n",
            "Неправильно\n",
            "Ответы:\n",
            "Python\n",
            "Переходим к следующему вопросу...\n",
            "Вопрос 10/20:  Какое ключевое слово в SQL используется для фильтрации уникальных значений?\n",
            "\n",
            "1. GROUP BY\n",
            "2. DISTINCT\n",
            "3. SELECT\n",
            "4. ORDER BY\n",
            "5. WHERE\n",
            "2\n",
            "Правильно\n",
            "Переходим к следующему вопросу...\n",
            "Вопрос 11/20:  Какой язык программирования был создан первым?\n",
            "\n",
            "1. C\n",
            "2. Fortran\n",
            "3. Python\n",
            "4. Ruby\n",
            "5. Java\n",
            "4\n",
            "Неправильно\n",
            "Ответы:\n",
            "Fortran\n",
            "Переходим к следующему вопросу...\n",
            "Вопрос 12/20:  Какая из перечисленных технологий является JavaScript-библиотекой для работы с пользовательским интерфейсом?\n",
            "\n",
            "1. Node.js\n",
            "2. Django\n",
            "3. Flask\n",
            "4. React\n",
            "5. Laravel\n",
            "1\n",
            "Неправильно\n",
            "Ответы:\n",
            "React\n",
            "Переходим к следующему вопросу...\n",
            "Вопрос 13/20: Какой язык программирования является основным для написания смарт-контрактов в блокчейне Ethereum?\n",
            "\n",
            "1. Java\n",
            "2. Solidity\n",
            "3. C++\n",
            "4. Python\n",
            "5. Go\n",
            "2\n",
            "Правильно\n",
            "Переходим к следующему вопросу...\n",
            "Вопрос 14/20:  Какой язык программирования чаще всего используется для создания серверной части веб-приложений?\n",
            "\n",
            "1. Kotlin\n",
            "2. Swift\n",
            "3. PHP\n",
            "4. C#\n",
            "5. JavaScript\n",
            "2\n",
            "Неправильно\n",
            "Ответы:\n",
            "PHP\n",
            "Переходим к следующему вопросу...\n",
            "Вопрос 15/20: Какое расширение файла обычно используется для скриптов на языке Python?\n",
            "\n",
            "1. .rb\n",
            "2. .py\n",
            "3. .java\n",
            "4. .php\n",
            "5. .js\n",
            "3\n",
            "Неправильно\n",
            "Ответы:\n",
            ".py\n",
            "Переходим к следующему вопросу...\n",
            "Вопрос 16/20: Какая база данных является нереляционной (NoSQL)?\n",
            "\n",
            "1. MySQL\n",
            "2. MongoDB\n",
            "3. SQLite\n",
            "4. Oracle\n",
            "5. PostgreSQL\n",
            "4\n",
            "Неправильно\n",
            "Ответы:\n",
            "MongoDB\n",
            "Переходим к следующему вопросу...\n",
            "Вопрос 17/20: Какая команда используется в терминале Linux для просмотра содержимого текущей директории?\n",
            "\n",
            "1. rm\n",
            "2. cp\n",
            "3. cd\n",
            "4. ls\n",
            "5. mkdir\n",
            "5\n",
            "Неправильно\n",
            "Ответы:\n",
            "ls\n",
            "Переходим к следующему вопросу...\n",
            "Вопрос 18/20:  Какой протокол используется для отправки электронной почты?\n",
            "\n",
            "1. SSH\n",
            "2. FTP\n",
            "3. SMTP\n",
            "4. HTTP\n",
            "5. IMAP\n",
            "3\n",
            "Правильно\n",
            "Переходим к следующему вопросу...\n",
            "Вопрос 19/20: Какой фреймворк является одним из самых популярных для разработки мобильных приложений на JavaScript?\n",
            "\n",
            "1. Laravel\n",
            "2. Django\n",
            "3. Spring\n",
            "4. Flask\n",
            "5. React Native\n",
            "2\n",
            "Неправильно\n",
            "Ответы:\n",
            "React Native\n",
            "Переходим к следующему вопросу...\n",
            "Вопрос 20/20:  Какой фреймворк чаще всего используется для создания RESTful API на Python?\n",
            "\n",
            "1. Flask\n",
            "2. Angular\n",
            "3. Vue.js\n",
            "4. React\n",
            "5. Django\n",
            "4\n",
            "Неправильно\n",
            "Ответы:\n",
            "Django Flask\n",
            "Django  или  Flask  (оба подходят, но Django более популярен)\n",
            "Тестирование завершенно\n",
            "Общее количество вопросов: 20\n",
            "Количество правильных ответов: 8\n",
            "Процент правильных ответов: 40.0%\n",
            "\n"
          ]
        }
      ]
    }
  ]
}