{
  "nbformat": 4,
  "nbformat_minor": 0,
  "metadata": {
    "colab": {
      "provenance": [],
      "authorship_tag": "ABX9TyOKCSBuuhQmW1w+fnkiIX74",
      "include_colab_link": true
    },
    "kernelspec": {
      "name": "python3",
      "display_name": "Python 3"
    },
    "language_info": {
      "name": "python"
    }
  },
  "cells": [
    {
      "cell_type": "markdown",
      "metadata": {
        "id": "view-in-github",
        "colab_type": "text"
      },
      "source": [
        "<a href=\"https://colab.research.google.com/github/Fairim/University/blob/main/MainClass.ipynb\" target=\"_parent\"><img src=\"https://colab.research.google.com/assets/colab-badge.svg\" alt=\"Open In Colab\"/></a>"
      ]
    },
    {
      "cell_type": "markdown",
      "source": [
        "#6.**Метаклассы**"
      ],
      "metadata": {
        "id": "Ijv02R7rOG5b"
      }
    },
    {
      "cell_type": "code",
      "source": [
        "from typing import Optional\n",
        "\n",
        "class CarMeta(type):\n",
        "  registry = {}\n",
        "  def __new__(metacls, name, bases, class_dict):\n",
        "    cls = super().__new__(metacls, name, bases, class_dict)\n",
        "    if name != \"Car\":\n",
        "      CarMeta.registry[name.lower()] = cls\n",
        "    return cls"
      ],
      "metadata": {
        "id": "v3SP_HMNM4JO"
      },
      "execution_count": null,
      "outputs": []
    },
    {
      "cell_type": "markdown",
      "source": [
        "Вариант 11.  \n",
        "  \n",
        "#1.**Создание абстрактного класса**\n"
      ],
      "metadata": {
        "id": "JhfxmF7LWJOr"
      }
    },
    {
      "cell_type": "code",
      "execution_count": null,
      "metadata": {
        "id": "zVBozqI_V6dC"
      },
      "outputs": [],
      "source": [
        "import abc\n",
        "\n",
        "class Car(metaclass=CarMeta):\n",
        "  def __init__(self, car_id: str, make: str, model: str, year: int, price: int, is_available: bool):\n",
        "    if year < 1900 or year > 2025:\n",
        "      raise ValueError(f\"InvalidCarError\")\n",
        "    self.__car_id = car_id\n",
        "    self.__make = make\n",
        "    self.__model = model\n",
        "    self.__year = year\n",
        "    self.__price = price\n",
        "    self.__is_available = is_available\n",
        "\n",
        "  @abc.abstractmethod\n",
        "  def calculate_price(self):\n",
        "    pass\n",
        "\n",
        "  def __str__(self) -> str:\n",
        "    return f'Автомобиль: {self.__make} {self.__model}. Год выпуска: {self.__year}. '\n",
        "\n",
        "  def __lt__(self, other: 'Car') -> bool:\n",
        "    if self.__price != other.__price:\n",
        "      return self.__price < other.__price\n",
        "    else:\n",
        "      return self.__year < other.__year\n",
        "\n",
        "  def __gt__(self, other: 'Car') -> bool:\n",
        "    return other.__lt__(self)\n",
        "\n",
        "  @property\n",
        "  def car_id(self) -> str:\n",
        "    return self.__car_id\n",
        "\n",
        "  @car_id.setter\n",
        "  def car_id(self, car_id: str) -> None:\n",
        "    self.__car_id = car_id\n",
        "\n",
        "  @property\n",
        "  def make(self) -> str:\n",
        "    return self.__make\n",
        "\n",
        "  @make.setter\n",
        "  def make(self, make: str) -> None:\n",
        "    self.__make = make\n",
        "\n",
        "  @property\n",
        "  def model(self) -> str:\n",
        "    return self.__model\n",
        "\n",
        "  @model.setter\n",
        "  def model(self, model: str) -> None:\n",
        "    self.__model = model\n",
        "\n",
        "  @property\n",
        "  def year(self) -> int:\n",
        "    return self.__year\n",
        "\n",
        "  @year.setter\n",
        "  def year(self, year: int) -> None:\n",
        "    self.__year = year\n",
        "\n",
        "  @property\n",
        "  def price(self) -> int:\n",
        "    return self.__price\n",
        "\n",
        "  @price.setter\n",
        "  def price(self, price: int) -> None:\n",
        "    self.__price = price\n",
        "\n",
        "  @property\n",
        "  def is_available(self) -> bool:\n",
        "    return self.__is_available\n",
        "\n",
        "  @is_available.setter\n",
        "  def is_available(self, is_available: bool) -> None:\n",
        "    self.__is_available = is_available"
      ]
    },
    {
      "cell_type": "markdown",
      "source": [
        "#2.**Наследование**"
      ],
      "metadata": {
        "id": "Ey1CLyuXhLAr"
      }
    },
    {
      "cell_type": "code",
      "source": [
        "class Sedan(Car):\n",
        "  def __init__(self, car_id: str, make: str, model: str, year: int, price: int, is_available: bool, fuel_efficiency: int):\n",
        "    if fuel_efficiency <= 0:\n",
        "      raise ValueError(f\"InvalidCarError\")\n",
        "    super().__init__(car_id, make, model, year, price, is_available)\n",
        "    self.__fuel_efficiency = fuel_efficiency\n",
        "\n",
        "  @property\n",
        "  def fuel_efficiency(self) -> int:\n",
        "    return self.__fuel_efficiency\n",
        "\n",
        "  @fuel_efficiency.setter\n",
        "  def fuel_efficiency(self, value: int) -> None:\n",
        "    self.__fuel_efficiency = value\n",
        "\n",
        "  def calculate_price(self) -> float:\n",
        "    print('Скидка на седан 20%, потому что красиво!')\n",
        "    return self.__price - (self.__price / 5)\n",
        "\n",
        "  def __str__(self):\n",
        "    stroka = super().__str__()\n",
        "    return stroka + f'Расход топлива: {self.__fuel_efficiency}'\n",
        "\n",
        "\n",
        "class SUV(Car):\n",
        "  def __init__(self, car_id: str, make: str, model: str, year: int, price: int, is_available: bool, towing_capacity: int):\n",
        "    if towing_capacity <= 0:\n",
        "      raise ValueError(f\"InvalidCarError\")\n",
        "    super().__init__(car_id, make, model, year, price, is_available)\n",
        "    self.__towing_capacity = towing_capacity\n",
        "\n",
        "  @property\n",
        "  def towing_capacity(self) -> int:\n",
        "    return self.__towing_capacity\n",
        "\n",
        "  @towing_capacity.setter\n",
        "  def towing_capacity(self, towing_capacity: int) -> None:\n",
        "    self.__towing_capacity = towing_capacity\n",
        "\n",
        "  def calculate_price(self) -> float:\n",
        "    print('Скидка на седан 25%, потому что везде проедет!')\n",
        "    return self.__price - (self.__price / 4)\n",
        "\n",
        "  def __str__(self):\n",
        "    stroka = super().__str__()\n",
        "    return stroka + f'Грузоподъёмность: {self.__towing_capacity}'\n",
        "\n",
        "\n",
        "class ElectricCar(Car):\n",
        "  def __init__(self, car_id: str, make: str, model: str, year: int, price: int, is_available: bool, battery_range: int):\n",
        "    if battery_range <= 0:\n",
        "      raise ValueError(f\"InvalidCarError\")\n",
        "    super().__init__(car_id, make, model, year, price, is_available)\n",
        "    self.__battery_range = battery_range\n",
        "\n",
        "\n",
        "  @property\n",
        "  def battery_range(self) -> int:\n",
        "    return self.__battery_range\n",
        "\n",
        "  @battery_range.setter\n",
        "  def battery_range(self, battery_range: int) -> None:\n",
        "    self.__battery_range = battery_range\n",
        "\n",
        "  def calculate_price(self) -> float:\n",
        "    print('Скидка на седан 50%, потому что экологично!')\n",
        "    return self.__price / 2\n",
        "\n",
        "  def __str__(self):\n",
        "    stroka = super().__str__()\n",
        "    return stroka + f'Запас хода: {self.__battery_range}'"
      ],
      "metadata": {
        "id": "Eespk32OhT4e"
      },
      "execution_count": null,
      "outputs": []
    },
    {
      "cell_type": "markdown",
      "source": [
        "#4.**Интерфейсы для работы с автосалоном**"
      ],
      "metadata": {
        "id": "bD6aQOljGyAR"
      }
    },
    {
      "cell_type": "code",
      "source": [
        "class Sellable(abc.ABC):\n",
        "  @abc.abstractmethod\n",
        "  def sell_car(self):\n",
        "    pass\n",
        "\n",
        "class Reportable(abc.ABC):\n",
        "  @abc.abstractmethod\n",
        "  def generate_report(self):\n",
        "    pass"
      ],
      "metadata": {
        "id": "_CyxWIsjxmsH"
      },
      "execution_count": null,
      "outputs": []
    },
    {
      "cell_type": "markdown",
      "source": [
        "#5.**Миксины**"
      ],
      "metadata": {
        "id": "_fV8NnjbHDZx"
      }
    },
    {
      "cell_type": "code",
      "source": [
        "class LoggingMixin:\n",
        "  def log_action(self, message):\n",
        "    print(f\"[LOG]: {message}\")\n",
        "\n",
        "class NotificationMixin:\n",
        "  def send_notification(self, message):\n",
        "    print(f'[NOTIFICATION]: {message}')"
      ],
      "metadata": {
        "id": "wz8vddlKG8Zd"
      },
      "execution_count": null,
      "outputs": []
    },
    {
      "cell_type": "markdown",
      "source": [
        "#10.**Декоратор для проверки прав доступа**"
      ],
      "metadata": {
        "id": "nbuu81Aa-6lx"
      }
    },
    {
      "cell_type": "code",
      "source": [
        "from functools import wraps\n",
        "\n",
        "def check_permissions(required_permission):\n",
        "    def decorator(func):\n",
        "        def wrapper(self, *args, **kwargs):\n",
        "            if self.seller.rule != required_permission:\n",
        "                # logger.info(f\"Доступ: {seller} отклонен\")\n",
        "                raise PermissionDeniedError\n",
        "            # logger.info(f\"Доступ: {required_permission} разрешен\")\n",
        "            return func(self, *args, **kwargs)\n",
        "        return wrapper\n",
        "    return decorator\n"
      ],
      "metadata": {
        "id": "dr--iU35NBov"
      },
      "execution_count": null,
      "outputs": []
    },
    {
      "cell_type": "markdown",
      "source": [
        "#8.**Цепочка обязанностей (Chain of Responsibility)**"
      ],
      "metadata": {
        "id": "KyrebH0PWih6"
      }
    },
    {
      "cell_type": "code",
      "source": [
        "class PreProcessing(abc.ABC):\n",
        "  def __init__(self, option: Optional['PreProcessing'] = None):\n",
        "    self.nextHundler = option\n",
        "\n",
        "  def process(self, requst):\n",
        "    pass\n",
        "\n",
        "class SalesManager(PreProcessing):\n",
        "  def process(self, request):\n",
        "    if request < 1000:\n",
        "      print(\"Менеджер по продажам смог одобрить изменение цены!\")\n",
        "      return True\n",
        "    else:\n",
        "      print(\"Менеджер по продажам не смог одобрить изменение цены!\")\n",
        "      return self.nextHundler.process\n",
        "\n",
        "class FinanceDepartment(PreProcessing):\n",
        "  def process(self, request):\n",
        "    if request < 5000:\n",
        "      print(\"Финансовый отдел смог одобрить изменение цены!\")\n",
        "      return True\n",
        "    else:\n",
        "      print(\"Финансовый отдел не смог одобрить изменение цены!\")\n",
        "      return self.nextHundler.process\n",
        "\n",
        "class Director(PreProcessing):\n",
        "  def process(self, request):\n",
        "    print(\"Директор смог одобрить изменение цены!\")\n",
        "    return True\n"
      ],
      "metadata": {
        "id": "EVU32qZ4VjTX"
      },
      "execution_count": null,
      "outputs": []
    },
    {
      "cell_type": "markdown",
      "source": [
        "#3.**Композиция и агрегация**"
      ],
      "metadata": {
        "id": "WWLPvIUakvMV"
      }
    },
    {
      "cell_type": "code",
      "source": [
        "accessories = {\n",
        "    \"Roof Rack\": 120.50,\n",
        "    \"Car Cover\": 85.99,\n",
        "    \"Floor Mats\": 45.30,\n",
        "    \"Seat Covers\": 75.25,\n",
        "    \"Phone Holder\": 15.99,\n",
        "    \"Dash Cam\": 89.95,\n",
        "    \"Steering Wheel Cover\": 22.75,\n",
        "    \"Jump Starter\": 150.00,\n",
        "    \"Air Freshener\": 8.50,\n",
        "    \"Towing Hitch\": 210.40\n",
        "}\n",
        "\n",
        "class Customer():\n",
        "  def __init__(self, name: str, id: str, age: int):\n",
        "    if age > 100 or age < 1:\n",
        "      raise ValueError(f\"Не правильный ввод возраста: {age}\")\n",
        "    self.__name = name\n",
        "    self.__id = id\n",
        "    self.__age = age\n",
        "\n",
        "  @property\n",
        "  def name(self) -> str:\n",
        "    return self.__name\n",
        "\n",
        "  @name.setter\n",
        "  def name(self, name: str) -> None:\n",
        "    self.__name = name\n",
        "\n",
        "  @property\n",
        "  def id(self) -> str:\n",
        "    return self.__id\n",
        "\n",
        "  @id.setter\n",
        "  def id(self, id: str) -> None:\n",
        "    self.__id = id\n",
        "\n",
        "  @property\n",
        "  def age(self) -> int:\n",
        "    return self.__age\n",
        "\n",
        "  @age.setter\n",
        "  def age(self, age: int) -> None:\n",
        "    self.__age = age\n",
        "\n",
        "class Seller():\n",
        "  def __init__(self, rule: str):\n",
        "    self.rule = rule\n",
        "\n",
        "  @property\n",
        "  def rule(self) -> str:\n",
        "    return self.rule\n",
        "\n",
        "  @rule.setter\n",
        "  def rule(self, rule_new) -> None:\n",
        "    self.rule = rule_new\n",
        "\n",
        "\n",
        "class Sale(Sellable, Reportable, LoggingMixin, NotificationMixin):\n",
        "  def __init__(self, sale_id: str, customer: Customer, car: Car, sale_date: str, seller: Seller):\n",
        "    if len(sale_date) != 10:\n",
        "      raise ValueError(f\"Не правильный ввод даты: {sale_date}\")\n",
        "    list_year = sale_date.split('-')\n",
        "    if len(list_year) != 3:\n",
        "      raise ValueError(f\"Не правильный ввод даты: {sale_date}\")\n",
        "    if int(list_year[0]) < 1900 or int(list_year[0]) > 2025 or int(list_year[2]) < 1 or int(list_year[2]) > 31 or int(list_year[1]) < 1 or int(list_year[1]) > 12:\n",
        "      raise ValueError(f\"Не правильный ввод даты: {sale_date}\")\n",
        "    self.__sale_id = sale_id\n",
        "    self.__customer_info = customer\n",
        "    self.__car = car\n",
        "    self.__sale_date = sale_date\n",
        "    self.__accessory = {}\n",
        "    self.__total_price = 0.0\n",
        "    self.__seller = seller\n",
        "    self.log_action('Процесс оформления начался!')\n",
        "\n",
        "  @property\n",
        "  def car(self) -> Car:\n",
        "    return self.__car\n",
        "\n",
        "  def add_accessory(self, name_acc: str) -> None:\n",
        "    if name_acc not in accessories:\n",
        "      raise ValueError(f\"Аксессуар '{name_acc}' не существует\")\n",
        "    if name_acc in self.__accessory:\n",
        "      self.__accessory[name_acc] += accessories[name_acc]\n",
        "    else: self.__accessory[name_acc] = accessories[name_acc]\n",
        "    self.log_action(f'Добавили аксессуар {name_acc}!')\n",
        "\n",
        "  def remove_accessory(self, name_acc: str) -> None:\n",
        "    if name_acc not in self.__accessory:\n",
        "      raise ValueError(f\"Аксессуар '{name_acc}' нет в списке аксессуаров\")\n",
        "    self.__accessory.pop(name_acc, None)\n",
        "    self.log_action(f'Убрали аксессуар {name_acc}!')\n",
        "\n",
        "  def calculate_total(self) -> None:\n",
        "    self.__total_price = self.__car.price + sum(self.__accessory.values())\n",
        "    self.send_notification(f'Общая сумма продажи, составит: {self.__total_price}!')\n",
        "\n",
        "  def request_price_change(self, request) -> None:\n",
        "    if(SalesManager(FinanceDepartment(Director())).process(request)):\n",
        "      self.__car.price = self.__car.price - request\n",
        "    else:\n",
        "      print(\"Изменение цены не одобрили\")\n",
        "\n",
        "  @property\n",
        "  def total_price(self) -> float:\n",
        "    self.log_action(f'Получили общую сумму продажи')\n",
        "    return self.__total_price\n",
        "\n",
        "  @check_permissions('high')\n",
        "  def sell_car(self):\n",
        "    self.calculate_total()\n",
        "    print('Продажа успешно оформлена!')\n",
        "    print(self.generate_report())\n",
        "    self.send_notification(f'Продажа {self.__sale_id} полностью оформлена!')\n",
        "\n",
        "  def generate_report(self):\n",
        "    report = f\"\"\"\n",
        "    \\n\\nОтчёт по продаже:\\n\n",
        "    ID продажи: {self.__sale_id}\\n\n",
        "    Клиент: Имя: {self.__customer_info.name}, возраст: {self.__customer_info.age}\\n\n",
        "    Автомобиль: {car}\\n\n",
        "    Дата продажи: {self.__sale_date}\\n\n",
        "    \"\"\"\n",
        "    accessories_list = self.__accessory.items()\n",
        "    report + (f'Аксессуары: {accessories}\\n')\n",
        "    report + (f'Общая сумма продажи: {self.__total_price:.2f} dollars\\n')\n",
        "    self.log_action('Генерация отчёта!')\n",
        "    return report\n",
        ""
      ],
      "metadata": {
        "id": "X8CtssBikoP5"
      },
      "execution_count": null,
      "outputs": []
    },
    {
      "cell_type": "markdown",
      "source": [
        "#Проверка ранее созданных классов:"
      ],
      "metadata": {
        "id": "uB6ZGRobxULR"
      }
    },
    {
      "cell_type": "code",
      "source": [
        "customer = Customer(\"Иван\", \"123\", 30)\n",
        "seller = Seller('high')\n",
        "car = Sedan('2B4C252', 'Honda', 'Accord', 2018, 27650, True, 12, seller)\n",
        "sale = Sale(\"sale-001\", customer, car, \"2023-05-20\")\n",
        "\n",
        "sale.add_accessory(\"Dash Cam\")\n",
        "sale.add_accessory(\"Floor Mats\")\n",
        "sale.add_accessory(\"Dash Cam\")\n",
        "sale.calculate_total()\n",
        "print(car)\n",
        "print(f'Цена со всеми аккессуарами: {sale.total_price}')\n",
        "\n",
        "print(f'\\nЧуть не хватило, уберем один акксессуар!')\n",
        "sale.request_price_change(5000)\n",
        "sale.remove_accessory(\"Floor Mats\")\n",
        "sale.calculate_total()\n",
        "print(f'Цена после изменения:{sale.total_price}')\n",
        "\n",
        "sale.sell_car()"
      ],
      "metadata": {
        "id": "wdr1YdySthQu"
      },
      "execution_count": null,
      "outputs": []
    },
    {
      "cell_type": "markdown",
      "source": [
        "#7.**Фабричные методы**"
      ],
      "metadata": {
        "id": "rZwIe1CzUu_d"
      }
    },
    {
      "cell_type": "code",
      "source": [
        "class CarFactory:\n",
        "  @staticmethod\n",
        "  def create_car(car_type, *args, **kwargs):\n",
        "    car_class = CarMeta.registry.get(car_type.lower())\n",
        "    if not car_class:\n",
        "      raise ValueError(f\"Неизвестный тип автомобиля: {car_type}\")\n",
        "    return car_class(*args, **kwargs)\n",
        "\n",
        "car2 = CarFactory.create_car(\"sedan\", \"ID123\", \"Toyota\", \"Camry\", 2022, 28000, True, 15)\n",
        "car3 = CarFactory.create_car(\"sedan\", \"ID123\", \"Honda\", \"Accord\", 2022, 28000, True, 15)\n",
        "print(car2)\n",
        "print(car3)"
      ],
      "metadata": {
        "id": "aJozIAeCUxqL"
      },
      "execution_count": null,
      "outputs": []
    },
    {
      "cell_type": "markdown",
      "source": [
        "#9. **Шаблонный метод (Template Method)**"
      ],
      "metadata": {
        "id": "CKFT97pjrFng"
      }
    },
    {
      "cell_type": "code",
      "source": [
        "class TeplateClass(abc.ABC):\n",
        "  def template_method(self):\n",
        "    self.step_check_available()\n",
        "    self.step_make_sale()\n",
        "    self.step_confirm_sale()\n",
        "\n",
        "  @abc.abstractmethod\n",
        "  def step_check_available(self):\n",
        "    pass\n",
        "\n",
        "  @abc.abstractmethod\n",
        "  def step_make_sale(self):\n",
        "    pass\n",
        "\n",
        "  @abc.abstractmethod\n",
        "  def step_confirm_sale(self):\n",
        "    pass\n",
        "\n",
        "class OnlineSaleProcess(Sale, TeplateClass):\n",
        "  def __init__(self, sale_id: str, customer: Customer, car: Car, sale_date: str):\n",
        "    super().__init__(sale_id, customer, car, sale_date)\n",
        "    self.log_action('Процесс онлайн оформления продажи начался!')\n",
        "\n",
        "  def step_check_available(self):\n",
        "    if self.car.is_available == False:\n",
        "      raise ValueError(f\"Машина {self.car.make} не доступен!\")\n",
        "\n",
        "  def step_make_sale(self):\n",
        "    self.log_action('Процесс создания онлайн продажи начался!')\n",
        "    self.calculate_total()\n",
        "\n",
        "  def step_confirm_sale(self):\n",
        "    self.send_notification(f'Общая сумма продажи, составит: {self.total_price}!')\n",
        "    self.sell_car()\n",
        "    self.send_notification(f'Процесс оформления завершен!')\n",
        "\n",
        "\n",
        "class OfflineSaleProcess(Sale, TeplateClass):\n",
        "  def __init__(self, sale_id: str, customer: Customer, car: Car, sale_date: str):\n",
        "    super().__init__(sale_id, customer, car, sale_date)\n",
        "    self.log_action('Процесс оффнлайн оформления продажи начался!')\n",
        "\n",
        "  def step_check_available(self):\n",
        "    if self.car.is_available == False:\n",
        "      raise ValueError(f\"Машина {self.car.make} не доступен!\")\n",
        "\n",
        "  def step_make_sale(self):\n",
        "    self.log_action('Процесс создания оффнлайн продажи начался!')\n",
        "    self.calculate_total()\n",
        "\n",
        "  def step_confirm_sale(self):\n",
        "    self.send_notification(f'Общая сумма продажи, составит: {self.total_price}!')\n",
        "    self.sell_car()\n",
        "    self.send_notification(f'Процесс оформления завершен!')"
      ],
      "metadata": {
        "id": "D52gCTK1z4al"
      },
      "execution_count": null,
      "outputs": []
    },
    {
      "cell_type": "markdown",
      "source": [
        "Пример работы:"
      ],
      "metadata": {
        "id": "l1DNL66U9Yg_"
      }
    },
    {
      "cell_type": "code",
      "source": [
        "customer = Customer(\"Иван\", \"123\", 30)\n",
        "seller = Seller('high')\n",
        "car = Sedan('2B4C252', 'Honda', 'Accord', 2018, 27650, True, 12, seller)\n",
        "sale = OnlineSaleProcess(\"sale-001\", customer, car, \"2023-05-20\")\n",
        "sale.add_accessory(\"Dash Cam\")\n",
        "sale.add_accessory(\"Floor Mats\")\n",
        "sale.add_accessory(\"Dash Cam\")\n",
        "sale.request_price_change(5000)\n",
        "sale.template_method()"
      ],
      "metadata": {
        "id": "BVu5G9__9aQv"
      },
      "execution_count": null,
      "outputs": []
    }
  ]
}